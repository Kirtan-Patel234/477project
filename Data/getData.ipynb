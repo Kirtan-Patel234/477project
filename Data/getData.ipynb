{
 "cells": [
  {
   "cell_type": "markdown",
   "id": "6631e11b",
   "metadata": {},
   "source": [
    "# IS 477 Project - Stage I: Data Acquisition and Cleaning"
   ]
  }
 ],
 "metadata": {
  "language_info": {
   "name": "python"
  }
 },
 "nbformat": 4,
 "nbformat_minor": 5
}
