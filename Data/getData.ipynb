{
 "cells": [
  {
   "cell_type": "code",
   "execution_count": 48,
   "metadata": {},
   "outputs": [],
   "source": [
    "import requests\n",
    "import pandas as pd\n",
    "import time\n",
    "from sodapy import Socrata"
   ]
  },
  {
   "cell_type": "code",
   "execution_count": 24,
   "metadata": {},
   "outputs": [],
   "source": [
    "# documentation: https://aqs.epa.gov/aqsweb/documents/data_api.html#changes\n",
    "url = \"https://aqs.epa.gov/data/api/annualData/byCounty\"\n",
    "\n",
    "params = {\n",
    "    \"email\": \"kirtanpatel3149@gmail.com\",\n",
    "    \"key\": \"coppermouse67\",\n",
    "    \"param\": \"88101\",      # PM2.5\n",
    "    \"bdate\": \"20200101\",   # start date\n",
    "    \"edate\": \"20200131\",   # end date\n",
    "    \"state\": \"17\",          # Illinois\n",
    "    \"county\": \"031\",         # Cook County\n",
    "}\n"
   ]
  },
  {
   "cell_type": "code",
   "execution_count": 35,
   "metadata": {},
   "outputs": [
    {
     "name": "stdout",
     "output_type": "stream",
     "text": [
      "Retrieved 284 records for 2015.\n",
      "Retrieved 142 records for 2016.\n",
      "Retrieved 126 records for 2017.\n",
      "Retrieved 126 records for 2018.\n",
      "Retrieved 143 records for 2019.\n",
      "Retrieved 143 records for 2020.\n",
      "Retrieved 207 records for 2021.\n",
      "Retrieved 192 records for 2022.\n",
      "Retrieved 252 records for 2023.\n",
      "Retrieved 157 records for 2024.\n"
     ]
    }
   ],
   "source": [
    "dfs = []\n",
    "for year in range(2015, 2025):\n",
    "    params[\"bdate\"] = f\"{year}0101\"\n",
    "    params[\"edate\"] = f\"{year}1231\"\n",
    "    r = requests.get(url, params=params)\n",
    "    r.raise_for_status()\n",
    "    d = r.json()\n",
    "    if \"Data\" in d:\n",
    "        dfs.append(pd.DataFrame(d[\"Data\"]))\n",
    "        print(f\"Retrieved {len(d['Data'])} records for {year}.\")\n",
    "    time.sleep(5)\n",
    "df_all_air = pd.concat(dfs)\n"
   ]
  },
  {
   "cell_type": "code",
   "execution_count": 36,
   "metadata": {},
   "outputs": [
    {
     "data": {
      "text/plain": [
       "(1772, 56)"
      ]
     },
     "execution_count": 36,
     "metadata": {},
     "output_type": "execute_result"
    }
   ],
   "source": [
    "df_all_air.shape"
   ]
  },
  {
   "cell_type": "code",
   "execution_count": 37,
   "metadata": {},
   "outputs": [
    {
     "data": {
      "text/plain": [
       "Index(['state_code', 'county_code', 'site_number', 'parameter_code', 'poc',\n",
       "       'latitude', 'longitude', 'datum', 'parameter', 'sample_duration_code',\n",
       "       'sample_duration', 'pollutant_standard', 'metric_used', 'method',\n",
       "       'year', 'units_of_measure', 'event_type', 'observation_count',\n",
       "       'observation_percent', 'validity_indicator', 'valid_day_count',\n",
       "       'required_day_count', 'exceptional_data_count',\n",
       "       'null_observation_count', 'primary_exceedance_count',\n",
       "       'secondary_exceedance_count', 'certification_indicator',\n",
       "       'arithmetic_mean', 'standard_deviation', 'first_max_value',\n",
       "       'first_max_datetime', 'second_max_value', 'second_max_datetime',\n",
       "       'third_max_value', 'third_max_datetime', 'fourth_max_value',\n",
       "       'fourth_max_datetime', 'first_max_nonoverlap_value',\n",
       "       'first_max_n_o_datetime', 'second_max_nonoverlap_value',\n",
       "       'second_max_n_o_datetime', 'ninety_ninth_percentile',\n",
       "       'ninety_eighth_percentile', 'ninety_fifth_percentile',\n",
       "       'ninetieth_percentile', 'seventy_fifth_percentile',\n",
       "       'fiftieth_percentile', 'tenth_percentile', 'local_site_name',\n",
       "       'site_address', 'state', 'county', 'city', 'cbsa_code', 'cbsa',\n",
       "       'date_of_last_change'],\n",
       "      dtype='object')"
      ]
     },
     "execution_count": 37,
     "metadata": {},
     "output_type": "execute_result"
    }
   ],
   "source": [
    "df_all_air.columns"
   ]
  },
  {
   "cell_type": "code",
   "execution_count": 39,
   "metadata": {},
   "outputs": [
    {
     "data": {
      "text/plain": [
       "(298, 56)"
      ]
     },
     "execution_count": 39,
     "metadata": {},
     "output_type": "execute_result"
    }
   ],
   "source": [
    "# filter by lat/long to get all chicago data\n",
    "df_all_air = df_all_air[(df_all_air['longitude'] >= -87.77) & (df_all_air['longitude'] <= -87.57) & (df_all_air['latitude'] >= 41.81) & (df_all_air['latitude'] <= 41.97)]\n",
    "df_all_air.shape"
   ]
  },
  {
   "cell_type": "code",
   "execution_count": 61,
   "metadata": {},
   "outputs": [],
   "source": [
    "# documentation: https://data.cityofchicago.org/Health-Human-Services/Inpatient-Emergency-Department-and-Outpatient-Visi/7ce8-bpr6/about_data \n",
    "client = Socrata(\"data.cityofchicago.org\", app_token=\"DCuuIo2EqKHeUWr4NKBQKRgaJ\", username=\"kirtanpatel3149@gmail.com\", password=\"Palak_1998$$$$\")\n",
    "results = client.get(\"7ce8-bpr6\", limit=55000)\n",
    "df_hosp = pd.DataFrame.from_records(results)"
   ]
  },
  {
   "cell_type": "code",
   "execution_count": 62,
   "metadata": {},
   "outputs": [
    {
     "data": {
      "text/plain": [
       "(54862, 13)"
      ]
     },
     "execution_count": 62,
     "metadata": {},
     "output_type": "execute_result"
    }
   ],
   "source": [
    "df_hosp.shape"
   ]
  },
  {
   "cell_type": "code",
   "execution_count": 63,
   "metadata": {},
   "outputs": [
    {
     "data": {
      "text/html": [
       "<div>\n",
       "<style scoped>\n",
       "    .dataframe tbody tr th:only-of-type {\n",
       "        vertical-align: middle;\n",
       "    }\n",
       "\n",
       "    .dataframe tbody tr th {\n",
       "        vertical-align: top;\n",
       "    }\n",
       "\n",
       "    .dataframe thead th {\n",
       "        text-align: right;\n",
       "    }\n",
       "</style>\n",
       "<table border=\"1\" class=\"dataframe\">\n",
       "  <thead>\n",
       "    <tr style=\"text-align: right;\">\n",
       "      <th></th>\n",
       "      <th>mmwr_week</th>\n",
       "      <th>week</th>\n",
       "      <th>week_start</th>\n",
       "      <th>week_end</th>\n",
       "      <th>season</th>\n",
       "      <th>data_source</th>\n",
       "      <th>essence_category</th>\n",
       "      <th>respiratory_category</th>\n",
       "      <th>visit_type</th>\n",
       "      <th>demographic_category</th>\n",
       "      <th>demographic_group</th>\n",
       "      <th>percent</th>\n",
       "      <th>current_week_ending</th>\n",
       "    </tr>\n",
       "  </thead>\n",
       "  <tbody>\n",
       "    <tr>\n",
       "      <th>0</th>\n",
       "      <td>202348</td>\n",
       "      <td>48</td>\n",
       "      <td>2023-11-26T00:00:00.000</td>\n",
       "      <td>2023-12-02T00:00:00.000</td>\n",
       "      <td>2023-2024</td>\n",
       "      <td>ESSENCE</td>\n",
       "      <td>CDC COVID-Specific DD v1</td>\n",
       "      <td>COVID-19</td>\n",
       "      <td>ED Visits</td>\n",
       "      <td>Age Group</td>\n",
       "      <td>45_64</td>\n",
       "      <td>0.0219016165</td>\n",
       "      <td>2025-11-29T00:00:00.000</td>\n",
       "    </tr>\n",
       "    <tr>\n",
       "      <th>1</th>\n",
       "      <td>202304</td>\n",
       "      <td>4</td>\n",
       "      <td>2023-01-22T00:00:00.000</td>\n",
       "      <td>2023-01-28T00:00:00.000</td>\n",
       "      <td>2022-2023</td>\n",
       "      <td>ESSENCE</td>\n",
       "      <td>CDC Influenza DD v1</td>\n",
       "      <td>Influenza</td>\n",
       "      <td>ED Visits</td>\n",
       "      <td>Age Group</td>\n",
       "      <td>Age Unknown</td>\n",
       "      <td>0</td>\n",
       "      <td>2026-01-31T00:00:00.000</td>\n",
       "    </tr>\n",
       "    <tr>\n",
       "      <th>2</th>\n",
       "      <td>201749</td>\n",
       "      <td>49</td>\n",
       "      <td>2017-12-03T00:00:00.000</td>\n",
       "      <td>2017-12-09T00:00:00.000</td>\n",
       "      <td>2017-2018</td>\n",
       "      <td>ESSENCE</td>\n",
       "      <td>CDC Respiratory Syncytial Virus DD v1</td>\n",
       "      <td>RSV</td>\n",
       "      <td>ED Visits</td>\n",
       "      <td>Age Group</td>\n",
       "      <td>05_17</td>\n",
       "      <td>0</td>\n",
       "      <td>2025-12-06T00:00:00.000</td>\n",
       "    </tr>\n",
       "    <tr>\n",
       "      <th>3</th>\n",
       "      <td>201845</td>\n",
       "      <td>45</td>\n",
       "      <td>2018-11-04T00:00:00.000</td>\n",
       "      <td>2018-11-10T00:00:00.000</td>\n",
       "      <td>2018-2019</td>\n",
       "      <td>ESSENCE</td>\n",
       "      <td>CDC Broad Acute Respiratory DD v1</td>\n",
       "      <td>Broad Acute Respiratory</td>\n",
       "      <td>ED Visits</td>\n",
       "      <td>Race/Ethnicity</td>\n",
       "      <td>Unknown Race/Ethnicity</td>\n",
       "      <td>0.125376128</td>\n",
       "      <td>2025-11-08T00:00:00.000</td>\n",
       "    </tr>\n",
       "    <tr>\n",
       "      <th>4</th>\n",
       "      <td>202323</td>\n",
       "      <td>23</td>\n",
       "      <td>2023-06-04T00:00:00.000</td>\n",
       "      <td>2023-06-10T00:00:00.000</td>\n",
       "      <td>2022-2023</td>\n",
       "      <td>ESSENCE</td>\n",
       "      <td>CDC COVID-Specific DD v1</td>\n",
       "      <td>COVID-19</td>\n",
       "      <td>ED Visits</td>\n",
       "      <td>Age Group</td>\n",
       "      <td>00_04</td>\n",
       "      <td>0.007612457</td>\n",
       "      <td>2026-06-13T00:00:00.000</td>\n",
       "    </tr>\n",
       "    <tr>\n",
       "      <th>5</th>\n",
       "      <td>202424</td>\n",
       "      <td>24</td>\n",
       "      <td>2024-06-09T00:00:00.000</td>\n",
       "      <td>2024-06-15T00:00:00.000</td>\n",
       "      <td>2023-2024</td>\n",
       "      <td>ESSENCE</td>\n",
       "      <td>Influenza-like Illness</td>\n",
       "      <td>ILI</td>\n",
       "      <td>ED Visits</td>\n",
       "      <td>Race/Ethnicity</td>\n",
       "      <td>Asian Non-Hispanic</td>\n",
       "      <td>0.008908686</td>\n",
       "      <td>2026-06-20T00:00:00.000</td>\n",
       "    </tr>\n",
       "    <tr>\n",
       "      <th>6</th>\n",
       "      <td>202235</td>\n",
       "      <td>35</td>\n",
       "      <td>2022-08-28T00:00:00.000</td>\n",
       "      <td>2022-09-03T00:00:00.000</td>\n",
       "      <td>2021-2022</td>\n",
       "      <td>ESSENCE</td>\n",
       "      <td>CDC COVID-Specific DD v1</td>\n",
       "      <td>COVID-19</td>\n",
       "      <td>Admissions</td>\n",
       "      <td>Age Group</td>\n",
       "      <td>Age Unknown</td>\n",
       "      <td>0</td>\n",
       "      <td>2026-09-05T00:00:00.000</td>\n",
       "    </tr>\n",
       "    <tr>\n",
       "      <th>7</th>\n",
       "      <td>202320</td>\n",
       "      <td>20</td>\n",
       "      <td>2023-05-14T00:00:00.000</td>\n",
       "      <td>2023-05-20T00:00:00.000</td>\n",
       "      <td>2022-2023</td>\n",
       "      <td>ESSENCE</td>\n",
       "      <td>CDC COVID-Specific DD v1</td>\n",
       "      <td>COVID-19</td>\n",
       "      <td>Admissions</td>\n",
       "      <td>Age Group</td>\n",
       "      <td>65+</td>\n",
       "      <td>0.016528926</td>\n",
       "      <td>2026-05-23T00:00:00.000</td>\n",
       "    </tr>\n",
       "    <tr>\n",
       "      <th>8</th>\n",
       "      <td>201932</td>\n",
       "      <td>32</td>\n",
       "      <td>2019-08-04T00:00:00.000</td>\n",
       "      <td>2019-08-10T00:00:00.000</td>\n",
       "      <td>2018-2019</td>\n",
       "      <td>ESSENCE</td>\n",
       "      <td>CDC Respiratory Syncytial Virus DD v1</td>\n",
       "      <td>RSV</td>\n",
       "      <td>ED Visits</td>\n",
       "      <td>Race/Ethnicity</td>\n",
       "      <td>White Non-Hispanic</td>\n",
       "      <td>0</td>\n",
       "      <td>2026-08-15T00:00:00.000</td>\n",
       "    </tr>\n",
       "    <tr>\n",
       "      <th>9</th>\n",
       "      <td>202136</td>\n",
       "      <td>36</td>\n",
       "      <td>2021-09-05T00:00:00.000</td>\n",
       "      <td>2021-09-11T00:00:00.000</td>\n",
       "      <td>2020-2021</td>\n",
       "      <td>ESSENCE</td>\n",
       "      <td>CDC Broad Acute Respiratory DD v1</td>\n",
       "      <td>Broad Acute Respiratory</td>\n",
       "      <td>ED Visits</td>\n",
       "      <td>Age Group</td>\n",
       "      <td>Age Unknown</td>\n",
       "      <td>0</td>\n",
       "      <td>2026-09-12T00:00:00.000</td>\n",
       "    </tr>\n",
       "  </tbody>\n",
       "</table>\n",
       "</div>"
      ],
      "text/plain": [
       "  mmwr_week week               week_start                 week_end     season  \\\n",
       "0    202348   48  2023-11-26T00:00:00.000  2023-12-02T00:00:00.000  2023-2024   \n",
       "1    202304    4  2023-01-22T00:00:00.000  2023-01-28T00:00:00.000  2022-2023   \n",
       "2    201749   49  2017-12-03T00:00:00.000  2017-12-09T00:00:00.000  2017-2018   \n",
       "3    201845   45  2018-11-04T00:00:00.000  2018-11-10T00:00:00.000  2018-2019   \n",
       "4    202323   23  2023-06-04T00:00:00.000  2023-06-10T00:00:00.000  2022-2023   \n",
       "5    202424   24  2024-06-09T00:00:00.000  2024-06-15T00:00:00.000  2023-2024   \n",
       "6    202235   35  2022-08-28T00:00:00.000  2022-09-03T00:00:00.000  2021-2022   \n",
       "7    202320   20  2023-05-14T00:00:00.000  2023-05-20T00:00:00.000  2022-2023   \n",
       "8    201932   32  2019-08-04T00:00:00.000  2019-08-10T00:00:00.000  2018-2019   \n",
       "9    202136   36  2021-09-05T00:00:00.000  2021-09-11T00:00:00.000  2020-2021   \n",
       "\n",
       "  data_source                       essence_category     respiratory_category  \\\n",
       "0     ESSENCE               CDC COVID-Specific DD v1                 COVID-19   \n",
       "1     ESSENCE                    CDC Influenza DD v1                Influenza   \n",
       "2     ESSENCE  CDC Respiratory Syncytial Virus DD v1                      RSV   \n",
       "3     ESSENCE      CDC Broad Acute Respiratory DD v1  Broad Acute Respiratory   \n",
       "4     ESSENCE               CDC COVID-Specific DD v1                 COVID-19   \n",
       "5     ESSENCE                 Influenza-like Illness                      ILI   \n",
       "6     ESSENCE               CDC COVID-Specific DD v1                 COVID-19   \n",
       "7     ESSENCE               CDC COVID-Specific DD v1                 COVID-19   \n",
       "8     ESSENCE  CDC Respiratory Syncytial Virus DD v1                      RSV   \n",
       "9     ESSENCE      CDC Broad Acute Respiratory DD v1  Broad Acute Respiratory   \n",
       "\n",
       "   visit_type demographic_category       demographic_group       percent  \\\n",
       "0   ED Visits            Age Group                   45_64  0.0219016165   \n",
       "1   ED Visits            Age Group             Age Unknown             0   \n",
       "2   ED Visits            Age Group                   05_17             0   \n",
       "3   ED Visits       Race/Ethnicity  Unknown Race/Ethnicity   0.125376128   \n",
       "4   ED Visits            Age Group                   00_04   0.007612457   \n",
       "5   ED Visits       Race/Ethnicity      Asian Non-Hispanic   0.008908686   \n",
       "6  Admissions            Age Group             Age Unknown             0   \n",
       "7  Admissions            Age Group                     65+   0.016528926   \n",
       "8   ED Visits       Race/Ethnicity      White Non-Hispanic             0   \n",
       "9   ED Visits            Age Group             Age Unknown             0   \n",
       "\n",
       "       current_week_ending  \n",
       "0  2025-11-29T00:00:00.000  \n",
       "1  2026-01-31T00:00:00.000  \n",
       "2  2025-12-06T00:00:00.000  \n",
       "3  2025-11-08T00:00:00.000  \n",
       "4  2026-06-13T00:00:00.000  \n",
       "5  2026-06-20T00:00:00.000  \n",
       "6  2026-09-05T00:00:00.000  \n",
       "7  2026-05-23T00:00:00.000  \n",
       "8  2026-08-15T00:00:00.000  \n",
       "9  2026-09-12T00:00:00.000  "
      ]
     },
     "execution_count": 63,
     "metadata": {},
     "output_type": "execute_result"
    }
   ],
   "source": [
    "df_hosp.head(10)"
   ]
  }
 ],
 "metadata": {
  "kernelspec": {
   "display_name": ".venv",
   "language": "python",
   "name": "python3"
  },
  "language_info": {
   "codemirror_mode": {
    "name": "ipython",
    "version": 3
   },
   "file_extension": ".py",
   "mimetype": "text/x-python",
   "name": "python",
   "nbconvert_exporter": "python",
   "pygments_lexer": "ipython3",
   "version": "3.13.0"
  },
  "orig_nbformat": 4
 },
 "nbformat": 4,
 "nbformat_minor": 2
}
